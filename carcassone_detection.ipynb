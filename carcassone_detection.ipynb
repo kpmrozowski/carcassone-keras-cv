{
 "metadata": {
  "language_info": {
   "codemirror_mode": {
    "name": "ipython",
    "version": 3
   },
   "file_extension": ".py",
   "mimetype": "text/x-python",
   "name": "python",
   "nbconvert_exporter": "python",
   "pygments_lexer": "ipython3",
   "version": "3.7.10"
  },
  "orig_nbformat": 2,
  "kernelspec": {
   "name": "python3710jvsc74a57bd0104d99a562af22a524542d2faee63a6b935462bdc255e3412d46222218e8d8d0",
   "display_name": "Python 3.7.10 64-bit ('wae': conda)"
  },
  "metadata": {
   "interpreter": {
    "hash": "104d99a562af22a524542d2faee63a6b935462bdc255e3412d46222218e8d8d0"
   }
  }
 },
 "nbformat": 4,
 "nbformat_minor": 2,
 "cells": [
  {
   "cell_type": "code",
   "execution_count": 1,
   "metadata": {},
   "outputs": [],
   "source": [
    "%matplotlib inline"
   ]
  },
  {
   "source": [
    "import numpy as np                   # advanced math library\n",
    "import matplotlib.pyplot as plt      # MATLAB like plotting routines\n",
    "import random                        # for generating random numbers\n",
    "\n",
    "from keras.models import Sequential  # Model type to be used\n",
    "\n",
    "from keras.layers.core import Dense, Dropout, Activation # Types of layers to be used in our model\n",
    "from keras.utils import np_utils                         # NumPy related tools\n",
    "from keras.preprocessing.image import ImageDataGenerator\n",
    "from keras.layers import Conv2D, MaxPooling2D, ZeroPadding2D, GlobalAveragePooling2D, Flatten\n",
    "from keras.layers.normalization import BatchNormalization\n",
    "\n",
    "from keras import optimizers\n",
    "\n",
    "\n",
    "from sklearn.metrics import confusion_matrix\n",
    "import itertools"
   ],
   "cell_type": "code",
   "metadata": {},
   "execution_count": null,
   "outputs": []
  },
  {
   "cell_type": "code",
   "execution_count": null,
   "metadata": {},
   "outputs": [],
   "source": [
    "# Reload the MNIST data\n",
    "(X_train, y_train), (X_test, y_test) = mnist.load_data()\n",
    "\n",
    "# Again, do some formatting\n",
    "# Except we do not flatten each image into a 784-length vector because we want to perform convolutions first\n",
    "\n",
    "X_train = X_train.reshape(60000, 28, 28, 1) #add an additional dimension to represent the single-channel\n",
    "X_test = X_test.reshape(10000, 28, 28, 1)\n",
    "\n",
    "X_train = X_train.astype('float32')         # change integers to 32-bit floating point numbers\n",
    "X_test = X_test.astype('float32')\n",
    "\n",
    "X_train /= 255                              # normalize each value for each pixel for the entire vector for each input\n",
    "X_test /= 255\n",
    "\n",
    "print(\"Training matrix shape\", X_train.shape)\n",
    "print(\"Testing matrix shape\", X_test.shape)"
   ]
  },
  {
   "cell_type": "code",
   "execution_count": null,
   "metadata": {},
   "outputs": [],
   "source": [
    "nb_classes = 10 # number of unique digits\n",
    "\n",
    "Y_train = np_utils.to_categorical(y_train, nb_classes)\n",
    "Y_test = np_utils.to_categorical(y_test, nb_classes)\n",
    "\n",
    "gen = ImageDataGenerator(rotation_range=8, width_shift_range=0.08, shear_range=0.3,\n",
    "                         height_shift_range=0.08, zoom_range=0.08, validation_split=0.2)\n",
    "\n",
    "test_gen = ImageDataGenerator()\n",
    "\n",
    "train_generator = gen.flow(X_train, Y_train, batch_size=128, subset='training')\n",
    "valid_generator = gen.flow(X_train, Y_train, batch_size=128, subset='validation')\n",
    "test_generator = test_gen.flow(X_test, Y_test, batch_size=128)\n"
   ]
  },
  {
   "cell_type": "code",
   "execution_count": null,
   "metadata": {},
   "outputs": [],
   "source": [
    "from keras.preprocessing.image import load_img, img_to_array\n",
    "\n",
    "img = load_img('test.png', color_mode = \"grayscale\")\n",
    "img = img_to_array(img).astype(np.float32) / 255.\n",
    "print(img.shape)\n",
    "plt.imshow(img[:,:,0], cmap = 'gray')\n",
    "img = np.expand_dims(img, 0)\n",
    "print(img.shape)"
   ]
  },
  {
   "cell_type": "code",
   "execution_count": null,
   "metadata": {},
   "outputs": [],
   "source": [
    "modelfc = Sequential()                                 # Linear stacking of layers\n",
    "\n",
    "# Convolution Layer 1\n",
    "modelfc.add(Conv2D(16, (5, 5), input_shape=(None,None,1))) # 16 different 5x5 kernels -- so 16 feature maps\n",
    "modelfc.add(Activation('relu') )                       # activation\n",
    "modelfc.add(MaxPooling2D(pool_size=(2,2)))             # Pool the max values over a 2x2 kernel\n",
    "\n",
    "# Convolution Layer 2\n",
    "modelfc.add(Conv2D(32, (5, 5)))                        # 32 different 5x5 kernels -- so 32 feature maps\n",
    "modelfc.add(Activation('relu'))                        # activation\n",
    "modelfc.add(MaxPooling2D(pool_size=(2,2)))             # Pool the max values over a 2x2 kernel\n",
    "\n",
    "\n",
    "modelfc.add(Conv2D(128, (4, 4)))                        \n",
    "modelfc.add(Activation('relu'))                        # activation\n",
    "\n",
    "modelfc.add(Conv2D(10, (1, 1)))                              \n",
    "modelfc.add(Activation('softmax'))                     # softmax activation\n",
    "\n",
    "modelfc.summary()"
   ]
  },
  {
   "cell_type": "code",
   "execution_count": null,
   "metadata": {},
   "outputs": [],
   "source": [
    "# we'll use the same optimizer\n",
    "adam = optimizers.Adam(lr=0.001)\n",
    "modelfc.compile(loss='categorical_crossentropy', optimizer=adam, metrics=['accuracy'])\n",
    "\n",
    "Y_train_fc = np.reshape(Y_train, (60000, 1, 1, 10))\n",
    "Y_test_fc = np.reshape(Y_test, (10000, 1, 1, 10))\n",
    "print(Y_test_fc.shape)\n",
    "\n",
    "gen_fc = ImageDataGenerator(rotation_range=8, width_shift_range=0.08, shear_range=0.3,\n",
    "                         height_shift_range=0.08, zoom_range=0.08, validation_split=0.2)\n",
    "\n",
    "test_gen_fc = ImageDataGenerator()\n",
    "\n",
    "train_generator_fc = gen_fc.flow(X_train, Y_train_fc, batch_size=120, subset='training')\n",
    "valid_generator_fc = gen_fc.flow(X_train, Y_train_fc, batch_size=120, subset='validation')\n",
    "test_generator_fc = test_gen_fc.flow(X_test, Y_test_fc, batch_size=128)\n",
    "\n",
    "modelfc.fit_generator(train_generator_fc, steps_per_epoch=50000//128, epochs=5, verbose=1, validation_data=valid_generator_fc, validation_steps = 10000 // 128)"
   ]
  },
  {
   "cell_type": "code",
   "execution_count": null,
   "metadata": {},
   "outputs": [],
   "source": [
    "score = modelfc.evaluate(X_test, Y_test_fc)\n",
    "print('Test score:', score[0])\n",
    "print('Test accuracy:', score[1])"
   ]
  },
  {
   "cell_type": "code",
   "execution_count": null,
   "metadata": {},
   "outputs": [],
   "source": [
    "# Predykcje dla obrazu dowolnej wielkości\n",
    "preds = modelfc.predict(img)\n",
    "print(preds.shape)\n",
    "plt.imshow(preds[0, :, :, 0])"
   ]
  },
  {
   "cell_type": "code",
   "execution_count": null,
   "metadata": {},
   "outputs": [],
   "source": [
    "x_axis = np.linspace(-1, 1, 28)[:, None]\n",
    "y_axis = np.linspace(-1, 1, 28)[None, :]\n",
    "\n",
    "arr = 1 - np.sqrt(x_axis ** 2 + y_axis ** 2)\n",
    "arr[arr<0] = 0\n",
    "plt.imshow(arr)\n",
    "\n",
    "def draw_heatmap(image, preds, kernel, step = 4):\n",
    "  import cv2\n",
    "\n",
    "  rows = preds.shape[0]\n",
    "  cols = preds.shape[1]\n",
    "  sy = kernel.shape[0]\n",
    "  sx = kernel.shape[1]\n",
    "\n",
    "  hmap = np.zeros(image.shape[0:2])\n",
    "\n",
    "  for r in range(rows):\n",
    "    for c in range(cols):\n",
    "      y = r * step\n",
    "      x = c * step\n",
    "\n",
    "      hmap[y:y+sy, x:x+sx] = hmap[y:y+sy, x:x+sx] + preds[r, c] * kernel\n",
    "\n",
    "  if np.amax(hmap) > 1:\n",
    "    hmap = hmap / np.amax(hmap)\n",
    "  hmap2 = (hmap * 255).astype(np.uint8)\n",
    "\n",
    "  cmap = cv2.applyColorMap(hmap2, cv2.COLORMAP_HOT)\n",
    "  cmap = cmap[:,:,::-1]\n",
    "  img = (image * 255).astype(np.uint8)\n",
    "  ret = 0.3 * img + 0.7 * cmap\n",
    "\n",
    "  return ret.astype(np.uint8)"
   ]
  },
  {
   "cell_type": "code",
   "execution_count": null,
   "metadata": {},
   "outputs": [],
   "source": [
    "for i in range(10):\n",
    "  plt.imshow(draw_heatmap(img[0], preds[0, :, :, i], arr))\n",
    "  plt.figure()"
   ]
  },
  {
   "cell_type": "code",
   "execution_count": null,
   "metadata": {},
   "outputs": [],
   "source": [
    "def to_fully_conv(model):\n",
    "    from keras.engine import InputLayer\n",
    "\n",
    "    new_model = Sequential()\n",
    "\n",
    "    input_layer = InputLayer(input_shape=(None, None, 1), name=\"input_new\")\n",
    "\n",
    "    new_model.add(input_layer)\n",
    "\n",
    "    for layer in model.layers:\n",
    "        \n",
    "        if \"Flatten\" in str(layer):\n",
    "\n",
    "            flattened_ipt = True\n",
    "            f_dim = layer.input_shape\n",
    "\n",
    "        elif \"Dense\" in str(layer):\n",
    "            input_shape = layer.input_shape\n",
    "            output_dim =  layer.get_weights()[1].shape[0]\n",
    "            W,b = layer.get_weights()\n",
    "            if flattened_ipt:\n",
    "                shape = (f_dim[1],f_dim[2],f_dim[3],output_dim)\n",
    "                new_W = W.reshape(shape)\n",
    "                new_layer = Conv2D(output_dim,\n",
    "                                          (f_dim[1],f_dim[2]),\n",
    "                                          strides=(1,1),\n",
    "                                          activation=layer.activation,\n",
    "                                          padding='valid',\n",
    "                                          weights=[new_W,b])\n",
    "                \n",
    "                new_model.add(new_layer)\n",
    "                flattened_ipt = False\n",
    "\n",
    "            else:\n",
    "                shape = (1,1,input_shape[1],output_dim)\n",
    "                new_W = W.reshape(shape)\n",
    "                new_layer = Conv2D(output_dim,\n",
    "                                          (1,1),\n",
    "                                          strides=(1,1),\n",
    "                                          activation=layer.activation,\n",
    "                                          padding='valid',\n",
    "                                          weights=[new_W,b])\n",
    "                \n",
    "                new_model.add(new_layer)\n",
    "\n",
    "        else:\n",
    "            new_model.add(layer)\n",
    "\n",
    "\n",
    "    return new_model"
   ]
  },
  {
   "cell_type": "code",
   "execution_count": null,
   "metadata": {},
   "outputs": [],
   "source": [
    "new_model = to_fully_conv(modelfc)\n",
    "new_model.summary()"
   ]
  },
  {
   "cell_type": "code",
   "execution_count": null,
   "metadata": {},
   "outputs": [],
   "source": [
    "pred2 = new_model.predict(img)\n",
    "print(pred2.shape)\n",
    "plt.imshow(pred2[0,:,:,2])\n",
    "np.amax(pred2[0,:,:,2])"
   ]
  },
  {
   "cell_type": "code",
   "execution_count": null,
   "metadata": {},
   "outputs": [],
   "source": [
    "for i in range(10):\n",
    "  plt.imshow(draw_heatmap(img[0], pred2[0, :, :, i], arr))\n",
    "  plt.figure()"
   ]
  },
  {
   "cell_type": "code",
   "execution_count": null,
   "metadata": {},
   "outputs": [],
   "source": [
    "# Wykorzystanie wag wytrenowanej sieci \"klasycznej\"\n",
    "cnt = X_train.shape[0]\n",
    "neg_cnt = 5000\n",
    "X_neg = np.zeros((neg_cnt, 28, 28, 1))\n",
    "y_neg = np.ones((neg_cnt)) * 10\n",
    "print(X_neg.shape)\n",
    "\n",
    "theta = np.radians(45)\n",
    "c, s = np.cos(theta), np.sin(theta)\n",
    "R = np.array(((c, -s), (s, c)))\n",
    "\n",
    "for i in range(neg_cnt):\n",
    "  i1 = X_train[random.randint(0, cnt-1)]\n",
    "  i2 = X_train[random.randint(0, cnt-1)]\n",
    "  i3 = X_train[random.randint(0, cnt-1)]\n",
    "  i4 = X_train[random.randint(0, cnt-1)]\n",
    "  tmp = np.vstack((np.hstack((i1, i2)), np.hstack((i3, i4))))\n",
    "  tmp = np.pad(tmp[:,:,0], pad_width=14, mode='constant')\n",
    "\n",
    "  c = np.random.randint(-14, 14, 2)\n",
    "  c = (np.matmul(c, R) + 42).astype(np.int32)\n",
    "  tmp2 = tmp[(c[0]-14):(c[0]+14),(c[1]-14):(c[1]+14)]\n",
    "  X_neg[i,:,:,0] = tmp2\n",
    "\n",
    "X_train_bg = np.concatenate((X_train, X_neg))\n",
    "y_train_bg = np.concatenate((y_train, y_neg))\n",
    "Y_train_bg = np_utils.to_categorical(y_train_bg, nb_classes + 1)\n",
    "Y_train_bg = np.reshape(Y_train_bg, (Y_train_bg.shape[0], 1, 1, 11))\n",
    "print(X_train_bg.shape)\n",
    "print(Y_train_bg.shape)"
   ]
  },
  {
   "cell_type": "code",
   "execution_count": null,
   "metadata": {},
   "outputs": [],
   "source": [
    "plt.imshow(X_neg[30,:,:,0])"
   ]
  },
  {
   "cell_type": "code",
   "execution_count": null,
   "metadata": {},
   "outputs": [],
   "source": [
    "gen_bg = ImageDataGenerator(rotation_range=8, width_shift_range=0.08, shear_range=0.3,\n",
    "                         height_shift_range=0.08, zoom_range=0.08, validation_split=0.2)\n",
    "\n",
    "train_generator_bg = gen_bg.flow(X_train_bg, Y_train_bg, batch_size=128, subset='training')\n",
    "valid_generator_bg = gen_bg.flow(X_train_bg, Y_train_bg, batch_size=128, subset='validation')\n",
    "\n",
    "\n",
    "modelbg = Sequential()                                 # Linear stacking of layers\n",
    "\n",
    "# Convolution Layer 1\n",
    "modelbg.add(Conv2D(16, (5, 5), input_shape=(None,None,1))) # 16 different 5x5 kernels -- so 16 feature maps\n",
    "modelbg.add(Activation('relu') )                       # activation\n",
    "modelbg.add(MaxPooling2D(pool_size=(2,2)))             # Pool the max values over a 2x2 kernel\n",
    "\n",
    "# Convolution Layer 2\n",
    "modelbg.add(Conv2D(32, (5, 5)))                        # 32 different 5x5 kernels -- so 32 feature maps\n",
    "modelbg.add(Activation('relu'))                        # activation\n",
    "modelbg.add(MaxPooling2D(pool_size=(2,2)))             # Pool the max values over a 2x2 kernel\n",
    "\n",
    "\n",
    "modelbg.add(Conv2D(128, (4, 4)))                        \n",
    "modelbg.add(Activation('relu'))                        # activation\n",
    "\n",
    "modelbg.add(Conv2D(10+1, (1, 1)))                              \n",
    "modelbg.add(Activation('softmax'))                     # softmax activation\n",
    "\n",
    "modelbg.summary()"
   ]
  },
  {
   "cell_type": "code",
   "execution_count": null,
   "metadata": {},
   "outputs": [],
   "source": [
    "adam = optimizers.Adam(lr=0.001)\n",
    "modelbg.compile(loss='categorical_crossentropy', optimizer=adam, metrics=['accuracy'])"
   ]
  },
  {
   "cell_type": "code",
   "execution_count": null,
   "metadata": {},
   "outputs": [],
   "source": [
    "modelbg.fit_generator(train_generator_bg, steps_per_epoch=50000//128, epochs=5, verbose=1, validation_data=valid_generator_bg, validation_steps = 10000 // 128)"
   ]
  },
  {
   "cell_type": "code",
   "execution_count": null,
   "metadata": {},
   "outputs": [],
   "source": [
    "pred3 = modelbg.predict(img)\n",
    "print(pred3.shape)\n",
    "plt.imshow(pred3[0,:,:,2])\n",
    "np.amax(pred3[0,:,:,2])"
   ]
  },
  {
   "cell_type": "code",
   "execution_count": null,
   "metadata": {},
   "outputs": [],
   "source": [
    "for i in range(11):\n",
    "  plt.imshow(draw_heatmap(img[0], pred3[0, :, :, i], arr))\n",
    "  plt.figure()"
   ]
  },
  {
   "cell_type": "code",
   "execution_count": null,
   "metadata": {},
   "outputs": [],
   "source": [
    "import scipy.ndimage.filters as filters\n",
    "import cv2\n",
    "\n",
    "outimg = cv2.cvtColor(img[0], cv2.COLOR_GRAY2BGR)\n",
    "for digit in range(10):\n",
    "  p0 = pred3[0, :, :, digit].copy()\n",
    "  p0[p0 < 0.997] = 0\n",
    "  preds_max = filters.maximum_filter(p0, 5)\n",
    "  preds_max = np.bitwise_and((p0 == preds_max), (p0 > 0))\n",
    "  plt.imshow(preds_max)\n",
    "\n",
    "  ids = np.nonzero(preds_max)\n",
    "  step = 4\n",
    "  sz = 28\n",
    "  for (y,x) in zip(*ids):\n",
    "    cv2.rectangle(outimg, (x*step,y*step), (x*step+sz, y*step+sz), (1, 0, 0))\n",
    "    cv2.putText(outimg, str(digit), (x*step, y*step+sz), cv2.FONT_HERSHEY_PLAIN, 1, (1, 0, 0))\n",
    "\n",
    "plt.imshow(outimg)"
   ]
  },
  {
   "cell_type": "code",
   "execution_count": null,
   "metadata": {},
   "outputs": [],
   "source": []
  }
 ]
}