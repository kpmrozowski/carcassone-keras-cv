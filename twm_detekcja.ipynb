{
 "metadata": {
  "language_info": {
   "codemirror_mode": {
    "name": "ipython",
    "version": 3
   },
   "file_extension": ".py",
   "mimetype": "text/x-python",
   "name": "python",
   "nbconvert_exporter": "python",
   "pygments_lexer": "ipython3",
   "version": "3.7.10"
  },
  "orig_nbformat": 2,
  "kernelspec": {
   "name": "python3710jvsc74a57bd0104d99a562af22a524542d2faee63a6b935462bdc255e3412d46222218e8d8d0",
   "display_name": "Python 3.7.10 64-bit ('wae': conda)"
  },
  "metadata": {
   "interpreter": {
    "hash": "104d99a562af22a524542d2faee63a6b935462bdc255e3412d46222218e8d8d0"
   }
  }
 },
 "nbformat": 4,
 "nbformat_minor": 2,
 "cells": [
  {
   "cell_type": "code",
   "execution_count": 2,
   "metadata": {},
   "outputs": [],
   "source": [
    "%matplotlib inline"
   ]
  },
  {
   "source": [
    "import numpy as np                   # advanced math library\n",
    "import matplotlib.pyplot as plt      # MATLAB like plotting routines\n",
    "import random                        # for generating random numbers\n",
    "\n",
    "from keras.datasets import mnist     # MNIST dataset is included in Keras%\n",
    "from keras.models import Sequential  # Model type to be used\n",
    "\n",
    "from keras.layers.core import Dense, Dropout, Activation # Types of layers to be used in our model\n",
    "from keras.utils import np_utils                         # NumPy related tools\n",
    "from keras.preprocessing.image import ImageDataGenerator\n",
    "from keras.layers import Conv2D, MaxPooling2D, ZeroPadding2D, GlobalAveragePooling2D, Flatten\n",
    "from keras.layers.normalization import BatchNormalization\n",
    "\n",
    "from keras import optimizers\n",
    "\n",
    "\n",
    "from sklearn.metrics import confusion_matrix\n",
    "import itertools"
   ],
   "cell_type": "code",
   "metadata": {},
   "execution_count": 3,
   "outputs": []
  },
  {
   "cell_type": "code",
   "execution_count": 4,
   "metadata": {},
   "outputs": [
    {
     "output_type": "stream",
     "name": "stdout",
     "text": [
      "Training matrix shape (60000, 28, 28, 1)\nTesting matrix shape (10000, 28, 28, 1)\n"
     ]
    },
    {
     "output_type": "execute_result",
     "data": {
      "text/plain": [
       "<matplotlib.image.AxesImage at 0x22107d98f08>"
      ]
     },
     "metadata": {},
     "execution_count": 4
    },
    {
     "output_type": "display_data",
     "data": {
      "text/plain": "<Figure size 432x288 with 1 Axes>",
      "image/svg+xml": "<?xml version=\"1.0\" encoding=\"utf-8\" standalone=\"no\"?>\r\n<!DOCTYPE svg PUBLIC \"-//W3C//DTD SVG 1.1//EN\"\r\n  \"http://www.w3.org/Graphics/SVG/1.1/DTD/svg11.dtd\">\r\n<svg height=\"248.518125pt\" version=\"1.1\" viewBox=\"0 0 251.565 248.518125\" width=\"251.565pt\" xmlns=\"http://www.w3.org/2000/svg\" xmlns:xlink=\"http://www.w3.org/1999/xlink\">\r\n <metadata>\r\n  <rdf:RDF xmlns:cc=\"http://creativecommons.org/ns#\" xmlns:dc=\"http://purl.org/dc/elements/1.1/\" xmlns:rdf=\"http://www.w3.org/1999/02/22-rdf-syntax-ns#\">\r\n   <cc:Work>\r\n    <dc:type rdf:resource=\"http://purl.org/dc/dcmitype/StillImage\"/>\r\n    <dc:date>2021-05-01T14:05:48.818606</dc:date>\r\n    <dc:format>image/svg+xml</dc:format>\r\n    <dc:creator>\r\n     <cc:Agent>\r\n      <dc:title>Matplotlib v3.4.1, https://matplotlib.org/</dc:title>\r\n     </cc:Agent>\r\n    </dc:creator>\r\n   </cc:Work>\r\n  </rdf:RDF>\r\n </metadata>\r\n <defs>\r\n  <style type=\"text/css\">*{stroke-linecap:butt;stroke-linejoin:round;}</style>\r\n </defs>\r\n <g id=\"figure_1\">\r\n  <g id=\"patch_1\">\r\n   <path d=\"M 0 248.518125 \r\nL 251.565 248.518125 \r\nL 251.565 0 \r\nL 0 0 \r\nz\r\n\" style=\"fill:none;\"/>\r\n  </g>\r\n  <g id=\"axes_1\">\r\n   <g id=\"patch_2\">\r\n    <path d=\"M 26.925 224.64 \r\nL 244.365 224.64 \r\nL 244.365 7.2 \r\nL 26.925 7.2 \r\nz\r\n\" style=\"fill:#ffffff;\"/>\r\n   </g>\r\n   <g clip-path=\"url(#pb5b5d93cb8)\">\r\n    <image height=\"218\" id=\"image48e017b0e7\" transform=\"scale(1 -1)translate(0 -218)\" width=\"218\" x=\"26.925\" xlink:href=\"data:image/png;base64,\r\niVBORw0KGgoAAAANSUhEUgAAANoAAADaCAYAAADAHVzbAAAFU0lEQVR4nO3dv0uVbRzHcX04IElbBxrCNacimgqaBCWiMciiJZyqfyAaWppd2orcrRbtBxINDm5Jg0tL0ZwQTUEJJ216hoen+3voPp2Pmq/X+uW67hvhzQXnwnNGR0ZGdkb4n1OnTpXzxcXFcr60tNQ4u337dos3Yj/7Z7dfAA4CoUGA0CBAaBAgNAgQGgQIDQJGR9yj/VK/e7S3b9+W816v1zg7f/58uXZ1dbWcs/840SBAaBAgNAgQGgQIDQKEBgFCg4DObr/AfrWzU18/djrNf9qJiYk//TrscU40CBAaBAgNAoQGAUKDAKFBgH+TaWl5ebmcX7x4sXH25s2bcu3Zs2dbvRN7lxMNAoQGAUKDAKFBgNAgQGgQIDQIcI/W0rlz58r569evG2dbW1vl2itXrpTzlZWVcs7e40SDAKFBgNAgQGgQIDQIEBoECA0C3KMNyebmZuOs2+2WaxcXF8v5tWvXynm/r8Ijz4kGAUKDAKFBgNAgQGgQIDQIEBoEuEcbkvv37zfObt26NdDek5OT5fzDhw8D7c+f50SDAKFBgNAgQGgQIDQIEBoECA0C3KMNSafTaZy9ePGiXDs9PV3ONzY2yvnp06fLOXlONAgQGgQIDQKEBgFCgwChQUDzZ9AMpNfrNc6eP39erp2amirnJ0+eLOf9fvbpyZMnjbMfP36Ua2nHiQYBQoMAoUGA0CBAaBAgNAgQGgT4N5k96N69e+X8zp07A+1/4cKFxtmrV68G2ptfc6JBgNAgQGgQIDQIEBoECA0ChAYB7tH2oG63W85XVlbKeb+vm/v8+XPjbGZmplzb76vu+DUnGgQIDQKEBgFCgwChQYDQIEBoEOAebR86duxYOX///n05Hxsba5w9e/asXDs7O1vOt7a2yvlB5USDAKFBgNAgQGgQIDQIEBoE+Hj/L3T9+vVy/ujRo9Z7P3z4sJzfuHGj9d5/MycaBAgNAoQGAUKDAKFBgNAgQGgQ4B7tL3T48OFyvr6+3jg7fvx4ufbr16/lfGlpqZxXd3zb29vl2v3MiQYBQoMAoUGA0CBAaBAgNAgQGgS4RzuADh061Djr93VzU1NTAz377t27jbP5+fly7ffv3wd69m5yokGA0CBAaBAgNAgQGgQIDQKEBgHu0fiPM2fOlPPl5eVy3u12Wz/75s2b5fzBgwet995tTjQIEBoECA0ChAYBQoMAoUGA0CDAPRq/5dKlS+X88ePHrffu952RV69eLecvX75s/exhc6JBgNAgQGgQIDQIEBoECA0COsPc/MiRIwOt39mpbx6+fPnSeu+JiYlyfvTo0XJ++fLl1s8e1Pj4eDmfm5sb2rNHR0eHtne/n5uamZkp5z7ehwNOaBAgNAgQGgQIDQKEBgFCg4Ch3qOtr6+X8373ZNvb2+X83bt3v/1O/5qeni7nY2NjrfemWfXTS2tra+Xap0+f/unXiXGiQYDQIEBoECA0CBAaBAgNAoQGAUP9urmNjY1yfuLEiWE9etdV/7f16dOncm2/+6Jv376V84WFhXK+m3q9XuPs48ePwTfJcqJBgNAgQGgQIDQIEBoECA0ChAYBfrYJApxoECA0CBAaBAgNAoQGAUKDAKFBgNAgQGgQIDQIEBoECA0ChAYBQoMAoUGA0CBAaBAgNAgQGgQIDQKEBgFCgwChQYDQIEBoECA0CBAaBAgNAoQGAUKDAKFBgNAgQGgQIDQIEBoECA0ChAYBQoMAoUGA0CBAaBAgNAgQGgQIDQKEBgFCgwChQYDQIEBoECA0CBAaBAgNAoQGAUKDAKFBgNAgQGgQIDQIEBoECA0ChAYBPwEb78hICfCgHwAAAABJRU5ErkJggg==\" y=\"-6.64\"/>\r\n   </g>\r\n   <g id=\"matplotlib.axis_1\">\r\n    <g id=\"xtick_1\">\r\n     <g id=\"line2d_1\">\r\n      <defs>\r\n       <path d=\"M 0 0 \r\nL 0 3.5 \r\n\" id=\"ma2ff8f106e\" style=\"stroke:#000000;stroke-width:0.8;\"/>\r\n      </defs>\r\n      <g>\r\n       <use style=\"stroke:#000000;stroke-width:0.8;\" x=\"30.807857\" xlink:href=\"#ma2ff8f106e\" y=\"224.64\"/>\r\n      </g>\r\n     </g>\r\n     <g id=\"text_1\">\r\n      <!-- 0 -->\r\n      <g transform=\"translate(27.626607 239.238437)scale(0.1 -0.1)\">\r\n       <defs>\r\n        <path d=\"M 2034 4250 \r\nQ 1547 4250 1301 3770 \r\nQ 1056 3291 1056 2328 \r\nQ 1056 1369 1301 889 \r\nQ 1547 409 2034 409 \r\nQ 2525 409 2770 889 \r\nQ 3016 1369 3016 2328 \r\nQ 3016 3291 2770 3770 \r\nQ 2525 4250 2034 4250 \r\nz\r\nM 2034 4750 \r\nQ 2819 4750 3233 4129 \r\nQ 3647 3509 3647 2328 \r\nQ 3647 1150 3233 529 \r\nQ 2819 -91 2034 -91 \r\nQ 1250 -91 836 529 \r\nQ 422 1150 422 2328 \r\nQ 422 3509 836 4129 \r\nQ 1250 4750 2034 4750 \r\nz\r\n\" id=\"DejaVuSans-30\" transform=\"scale(0.015625)\"/>\r\n       </defs>\r\n       <use xlink:href=\"#DejaVuSans-30\"/>\r\n      </g>\r\n     </g>\r\n    </g>\r\n    <g id=\"xtick_2\">\r\n     <g id=\"line2d_2\">\r\n      <g>\r\n       <use style=\"stroke:#000000;stroke-width:0.8;\" x=\"69.636429\" xlink:href=\"#ma2ff8f106e\" y=\"224.64\"/>\r\n      </g>\r\n     </g>\r\n     <g id=\"text_2\">\r\n      <!-- 5 -->\r\n      <g transform=\"translate(66.455179 239.238437)scale(0.1 -0.1)\">\r\n       <defs>\r\n        <path d=\"M 691 4666 \r\nL 3169 4666 \r\nL 3169 4134 \r\nL 1269 4134 \r\nL 1269 2991 \r\nQ 1406 3038 1543 3061 \r\nQ 1681 3084 1819 3084 \r\nQ 2600 3084 3056 2656 \r\nQ 3513 2228 3513 1497 \r\nQ 3513 744 3044 326 \r\nQ 2575 -91 1722 -91 \r\nQ 1428 -91 1123 -41 \r\nQ 819 9 494 109 \r\nL 494 744 \r\nQ 775 591 1075 516 \r\nQ 1375 441 1709 441 \r\nQ 2250 441 2565 725 \r\nQ 2881 1009 2881 1497 \r\nQ 2881 1984 2565 2268 \r\nQ 2250 2553 1709 2553 \r\nQ 1456 2553 1204 2497 \r\nQ 953 2441 691 2322 \r\nL 691 4666 \r\nz\r\n\" id=\"DejaVuSans-35\" transform=\"scale(0.015625)\"/>\r\n       </defs>\r\n       <use xlink:href=\"#DejaVuSans-35\"/>\r\n      </g>\r\n     </g>\r\n    </g>\r\n    <g id=\"xtick_3\">\r\n     <g id=\"line2d_3\">\r\n      <g>\r\n       <use style=\"stroke:#000000;stroke-width:0.8;\" x=\"108.465\" xlink:href=\"#ma2ff8f106e\" y=\"224.64\"/>\r\n      </g>\r\n     </g>\r\n     <g id=\"text_3\">\r\n      <!-- 10 -->\r\n      <g transform=\"translate(102.1025 239.238437)scale(0.1 -0.1)\">\r\n       <defs>\r\n        <path d=\"M 794 531 \r\nL 1825 531 \r\nL 1825 4091 \r\nL 703 3866 \r\nL 703 4441 \r\nL 1819 4666 \r\nL 2450 4666 \r\nL 2450 531 \r\nL 3481 531 \r\nL 3481 0 \r\nL 794 0 \r\nL 794 531 \r\nz\r\n\" id=\"DejaVuSans-31\" transform=\"scale(0.015625)\"/>\r\n       </defs>\r\n       <use xlink:href=\"#DejaVuSans-31\"/>\r\n       <use x=\"63.623047\" xlink:href=\"#DejaVuSans-30\"/>\r\n      </g>\r\n     </g>\r\n    </g>\r\n    <g id=\"xtick_4\">\r\n     <g id=\"line2d_4\">\r\n      <g>\r\n       <use style=\"stroke:#000000;stroke-width:0.8;\" x=\"147.293571\" xlink:href=\"#ma2ff8f106e\" y=\"224.64\"/>\r\n      </g>\r\n     </g>\r\n     <g id=\"text_4\">\r\n      <!-- 15 -->\r\n      <g transform=\"translate(140.931071 239.238437)scale(0.1 -0.1)\">\r\n       <use xlink:href=\"#DejaVuSans-31\"/>\r\n       <use x=\"63.623047\" xlink:href=\"#DejaVuSans-35\"/>\r\n      </g>\r\n     </g>\r\n    </g>\r\n    <g id=\"xtick_5\">\r\n     <g id=\"line2d_5\">\r\n      <g>\r\n       <use style=\"stroke:#000000;stroke-width:0.8;\" x=\"186.122143\" xlink:href=\"#ma2ff8f106e\" y=\"224.64\"/>\r\n      </g>\r\n     </g>\r\n     <g id=\"text_5\">\r\n      <!-- 20 -->\r\n      <g transform=\"translate(179.759643 239.238437)scale(0.1 -0.1)\">\r\n       <defs>\r\n        <path d=\"M 1228 531 \r\nL 3431 531 \r\nL 3431 0 \r\nL 469 0 \r\nL 469 531 \r\nQ 828 903 1448 1529 \r\nQ 2069 2156 2228 2338 \r\nQ 2531 2678 2651 2914 \r\nQ 2772 3150 2772 3378 \r\nQ 2772 3750 2511 3984 \r\nQ 2250 4219 1831 4219 \r\nQ 1534 4219 1204 4116 \r\nQ 875 4013 500 3803 \r\nL 500 4441 \r\nQ 881 4594 1212 4672 \r\nQ 1544 4750 1819 4750 \r\nQ 2544 4750 2975 4387 \r\nQ 3406 4025 3406 3419 \r\nQ 3406 3131 3298 2873 \r\nQ 3191 2616 2906 2266 \r\nQ 2828 2175 2409 1742 \r\nQ 1991 1309 1228 531 \r\nz\r\n\" id=\"DejaVuSans-32\" transform=\"scale(0.015625)\"/>\r\n       </defs>\r\n       <use xlink:href=\"#DejaVuSans-32\"/>\r\n       <use x=\"63.623047\" xlink:href=\"#DejaVuSans-30\"/>\r\n      </g>\r\n     </g>\r\n    </g>\r\n    <g id=\"xtick_6\">\r\n     <g id=\"line2d_6\">\r\n      <g>\r\n       <use style=\"stroke:#000000;stroke-width:0.8;\" x=\"224.950714\" xlink:href=\"#ma2ff8f106e\" y=\"224.64\"/>\r\n      </g>\r\n     </g>\r\n     <g id=\"text_6\">\r\n      <!-- 25 -->\r\n      <g transform=\"translate(218.588214 239.238437)scale(0.1 -0.1)\">\r\n       <use xlink:href=\"#DejaVuSans-32\"/>\r\n       <use x=\"63.623047\" xlink:href=\"#DejaVuSans-35\"/>\r\n      </g>\r\n     </g>\r\n    </g>\r\n   </g>\r\n   <g id=\"matplotlib.axis_2\">\r\n    <g id=\"ytick_1\">\r\n     <g id=\"line2d_7\">\r\n      <defs>\r\n       <path d=\"M 0 0 \r\nL -3.5 0 \r\n\" id=\"mf7ede47f69\" style=\"stroke:#000000;stroke-width:0.8;\"/>\r\n      </defs>\r\n      <g>\r\n       <use style=\"stroke:#000000;stroke-width:0.8;\" x=\"26.925\" xlink:href=\"#mf7ede47f69\" y=\"11.082857\"/>\r\n      </g>\r\n     </g>\r\n     <g id=\"text_7\">\r\n      <!-- 0 -->\r\n      <g transform=\"translate(13.5625 14.882076)scale(0.1 -0.1)\">\r\n       <use xlink:href=\"#DejaVuSans-30\"/>\r\n      </g>\r\n     </g>\r\n    </g>\r\n    <g id=\"ytick_2\">\r\n     <g id=\"line2d_8\">\r\n      <g>\r\n       <use style=\"stroke:#000000;stroke-width:0.8;\" x=\"26.925\" xlink:href=\"#mf7ede47f69\" y=\"49.911429\"/>\r\n      </g>\r\n     </g>\r\n     <g id=\"text_8\">\r\n      <!-- 5 -->\r\n      <g transform=\"translate(13.5625 53.710647)scale(0.1 -0.1)\">\r\n       <use xlink:href=\"#DejaVuSans-35\"/>\r\n      </g>\r\n     </g>\r\n    </g>\r\n    <g id=\"ytick_3\">\r\n     <g id=\"line2d_9\">\r\n      <g>\r\n       <use style=\"stroke:#000000;stroke-width:0.8;\" x=\"26.925\" xlink:href=\"#mf7ede47f69\" y=\"88.74\"/>\r\n      </g>\r\n     </g>\r\n     <g id=\"text_9\">\r\n      <!-- 10 -->\r\n      <g transform=\"translate(7.2 92.539219)scale(0.1 -0.1)\">\r\n       <use xlink:href=\"#DejaVuSans-31\"/>\r\n       <use x=\"63.623047\" xlink:href=\"#DejaVuSans-30\"/>\r\n      </g>\r\n     </g>\r\n    </g>\r\n    <g id=\"ytick_4\">\r\n     <g id=\"line2d_10\">\r\n      <g>\r\n       <use style=\"stroke:#000000;stroke-width:0.8;\" x=\"26.925\" xlink:href=\"#mf7ede47f69\" y=\"127.568571\"/>\r\n      </g>\r\n     </g>\r\n     <g id=\"text_10\">\r\n      <!-- 15 -->\r\n      <g transform=\"translate(7.2 131.36779)scale(0.1 -0.1)\">\r\n       <use xlink:href=\"#DejaVuSans-31\"/>\r\n       <use x=\"63.623047\" xlink:href=\"#DejaVuSans-35\"/>\r\n      </g>\r\n     </g>\r\n    </g>\r\n    <g id=\"ytick_5\">\r\n     <g id=\"line2d_11\">\r\n      <g>\r\n       <use style=\"stroke:#000000;stroke-width:0.8;\" x=\"26.925\" xlink:href=\"#mf7ede47f69\" y=\"166.397143\"/>\r\n      </g>\r\n     </g>\r\n     <g id=\"text_11\">\r\n      <!-- 20 -->\r\n      <g transform=\"translate(7.2 170.196362)scale(0.1 -0.1)\">\r\n       <use xlink:href=\"#DejaVuSans-32\"/>\r\n       <use x=\"63.623047\" xlink:href=\"#DejaVuSans-30\"/>\r\n      </g>\r\n     </g>\r\n    </g>\r\n    <g id=\"ytick_6\">\r\n     <g id=\"line2d_12\">\r\n      <g>\r\n       <use style=\"stroke:#000000;stroke-width:0.8;\" x=\"26.925\" xlink:href=\"#mf7ede47f69\" y=\"205.225714\"/>\r\n      </g>\r\n     </g>\r\n     <g id=\"text_12\">\r\n      <!-- 25 -->\r\n      <g transform=\"translate(7.2 209.024933)scale(0.1 -0.1)\">\r\n       <use xlink:href=\"#DejaVuSans-32\"/>\r\n       <use x=\"63.623047\" xlink:href=\"#DejaVuSans-35\"/>\r\n      </g>\r\n     </g>\r\n    </g>\r\n   </g>\r\n   <g id=\"patch_3\">\r\n    <path d=\"M 26.925 224.64 \r\nL 26.925 7.2 \r\n\" style=\"fill:none;stroke:#000000;stroke-linecap:square;stroke-linejoin:miter;stroke-width:0.8;\"/>\r\n   </g>\r\n   <g id=\"patch_4\">\r\n    <path d=\"M 244.365 224.64 \r\nL 244.365 7.2 \r\n\" style=\"fill:none;stroke:#000000;stroke-linecap:square;stroke-linejoin:miter;stroke-width:0.8;\"/>\r\n   </g>\r\n   <g id=\"patch_5\">\r\n    <path d=\"M 26.925 224.64 \r\nL 244.365 224.64 \r\n\" style=\"fill:none;stroke:#000000;stroke-linecap:square;stroke-linejoin:miter;stroke-width:0.8;\"/>\r\n   </g>\r\n   <g id=\"patch_6\">\r\n    <path d=\"M 26.925 7.2 \r\nL 244.365 7.2 \r\n\" style=\"fill:none;stroke:#000000;stroke-linecap:square;stroke-linejoin:miter;stroke-width:0.8;\"/>\r\n   </g>\r\n  </g>\r\n </g>\r\n <defs>\r\n  <clipPath id=\"pb5b5d93cb8\">\r\n   <rect height=\"217.44\" width=\"217.44\" x=\"26.925\" y=\"7.2\"/>\r\n  </clipPath>\r\n </defs>\r\n</svg>\r\n",
      "image/png": "[encoded data removed]"
     },
     "metadata": {
      "needs_background": "light"
     }
    }
   ],
   "source": [
    "# Reload the MNIST data\n",
    "(X_train, y_train), (X_test, y_test) = mnist.load_data()\n",
    "\n",
    "# Again, do some formatting\n",
    "# Except we do not flatten each image into a 784-length vector because we want to perform convolutions first\n",
    "\n",
    "X_train = X_train.reshape(60000, 28, 28, 1) #add an additional dimension to represent the single-channel\n",
    "X_test = X_test.reshape(10000, 28, 28, 1)\n",
    "\n",
    "X_train = X_train.astype('float32')         # change integers to 32-bit floating point numbers\n",
    "X_test = X_test.astype('float32')\n",
    "\n",
    "X_train /= 255                              # normalize each value for each pixel for the entire vector for each input\n",
    "X_test /= 255\n",
    "\n",
    "print(\"Training matrix shape\", X_train.shape)\n",
    "print(\"Testing matrix shape\", X_test.shape)\n",
    "plt.imshow(X_train[1332,:,:,0], cmap = 'gray')"
   ]
  },
  {
   "cell_type": "code",
   "execution_count": 5,
   "metadata": {},
   "outputs": [],
   "source": [
    "nb_classes = 10 # number of unique digits\n",
    "\n",
    "Y_train = np_utils.to_categorical(y_train, nb_classes)\n",
    "Y_test = np_utils.to_categorical(y_test, nb_classes)\n",
    "\n",
    "gen = ImageDataGenerator(rotation_range=8, width_shift_range=0.08, shear_range=0.3,\n",
    "                         height_shift_range=0.08, zoom_range=0.08, validation_split=0.2)\n",
    "\n",
    "test_gen = ImageDataGenerator()\n",
    "\n",
    "train_generator = gen.flow(X_train, Y_train, batch_size=128, subset='training')\n",
    "valid_generator = gen.flow(X_train, Y_train, batch_size=128, subset='validation')\n",
    "test_generator = test_gen.flow(X_test, Y_test, batch_size=128)\n"
   ]
  },
  {
   "cell_type": "code",
   "execution_count": 6,
   "metadata": {},
   "outputs": [
    {
     "output_type": "execute_result",
     "data": {
      "text/plain": [
       "<matplotlib.image.AxesImage at 0x22109111c08>"
      ]
     },
     "metadata": {},
     "execution_count": 6
    },
    {
     "output_type": "display_data",
     "data": {
      "text/plain": "<Figure size 432x288 with 1 Axes>",
      "image/svg+xml": "<?xml version=\"1.0\" encoding=\"utf-8\" standalone=\"no\"?>\r\n<!DOCTYPE svg PUBLIC \"-//W3C//DTD SVG 1.1//EN\"\r\n  \"http://www.w3.org/Graphics/SVG/1.1/DTD/svg11.dtd\">\r\n<svg height=\"129.680405pt\" version=\"1.1\" viewBox=\"0 0 368.925 129.680405\" width=\"368.925pt\" xmlns=\"http://www.w3.org/2000/svg\" xmlns:xlink=\"http://www.w3.org/1999/xlink\">\r\n <metadata>\r\n  <rdf:RDF xmlns:cc=\"http://creativecommons.org/ns#\" xmlns:dc=\"http://purl.org/dc/elements/1.1/\" xmlns:rdf=\"http://www.w3.org/1999/02/22-rdf-syntax-ns#\">\r\n   <cc:Work>\r\n    <dc:type rdf:resource=\"http://purl.org/dc/dcmitype/StillImage\"/>\r\n    <dc:date>2021-05-01T14:05:57.931179</dc:date>\r\n    <dc:format>image/svg+xml</dc:format>\r\n    <dc:creator>\r\n     <cc:Agent>\r\n      <dc:title>Matplotlib v3.4.1, https://matplotlib.org/</dc:title>\r\n     </cc:Agent>\r\n    </dc:creator>\r\n   </cc:Work>\r\n  </rdf:RDF>\r\n </metadata>\r\n <defs>\r\n  <style type=\"text/css\">*{stroke-linecap:butt;stroke-linejoin:round;}</style>\r\n </defs>\r\n <g id=\"figure_1\">\r\n  <g id=\"patch_1\">\r\n   <path d=\"M -0 129.680405 \r\nL 368.925 129.680405 \r\nL 368.925 0 \r\nL -0 0 \r\nz\r\n\" style=\"fill:none;\"/>\r\n  </g>\r\n  <g id=\"axes_1\">\r\n   <g id=\"patch_2\">\r\n    <path d=\"M 26.925 105.80228 \r\nL 361.725 105.80228 \r\nL 361.725 10.145137 \r\nL 26.925 10.145137 \r\nz\r\n\" style=\"fill:#ffffff;\"/>\r\n   </g>\r\n   <g clip-path=\"url(#p4592a98c3f)\">\r\n    <image height=\"96\" id=\"image9625b4537b\" transform=\"scale(1 -1)translate(0 -96)\" width=\"335\" x=\"26.925\" xlink:href=\"data:image/png;base64,\r\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\" y=\"-9.80228\"/>\r\n   </g>\r\n   <g id=\"matplotlib.axis_1\">\r\n    <g id=\"xtick_1\">\r\n     <g id=\"line2d_1\">\r\n      <defs>\r\n       <path d=\"M 0 0 \r\nL 0 3.5 \r\n\" id=\"m485216337d\" style=\"stroke:#000000;stroke-width:0.8;\"/>\r\n      </defs>\r\n      <g>\r\n       <use style=\"stroke:#000000;stroke-width:0.8;\" x=\"27.779082\" xlink:href=\"#m485216337d\" y=\"105.80228\"/>\r\n      </g>\r\n     </g>\r\n     <g id=\"text_1\">\r\n      <!-- 0 -->\r\n      <g transform=\"translate(24.597832 120.400717)scale(0.1 -0.1)\">\r\n       <defs>\r\n        <path d=\"M 2034 4250 \r\nQ 1547 4250 1301 3770 \r\nQ 1056 3291 1056 2328 \r\nQ 1056 1369 1301 889 \r\nQ 1547 409 2034 409 \r\nQ 2525 409 2770 889 \r\nQ 3016 1369 3016 2328 \r\nQ 3016 3291 2770 3770 \r\nQ 2525 4250 2034 4250 \r\nz\r\nM 2034 4750 \r\nQ 2819 4750 3233 4129 \r\nQ 3647 3509 3647 2328 \r\nQ 3647 1150 3233 529 \r\nQ 2819 -91 2034 -91 \r\nQ 1250 -91 836 529 \r\nQ 422 1150 422 2328 \r\nQ 422 3509 836 4129 \r\nQ 1250 4750 2034 4750 \r\nz\r\n\" id=\"DejaVuSans-30\" transform=\"scale(0.015625)\"/>\r\n       </defs>\r\n       <use xlink:href=\"#DejaVuSans-30\"/>\r\n      </g>\r\n     </g>\r\n    </g>\r\n    <g id=\"xtick_2\">\r\n     <g id=\"line2d_2\">\r\n      <g>\r\n       <use style=\"stroke:#000000;stroke-width:0.8;\" x=\"70.483163\" xlink:href=\"#m485216337d\" y=\"105.80228\"/>\r\n      </g>\r\n     </g>\r\n     <g id=\"text_2\">\r\n      <!-- 25 -->\r\n      <g transform=\"translate(64.120663 120.400717)scale(0.1 -0.1)\">\r\n       <defs>\r\n        <path d=\"M 1228 531 \r\nL 3431 531 \r\nL 3431 0 \r\nL 469 0 \r\nL 469 531 \r\nQ 828 903 1448 1529 \r\nQ 2069 2156 2228 2338 \r\nQ 2531 2678 2651 2914 \r\nQ 2772 3150 2772 3378 \r\nQ 2772 3750 2511 3984 \r\nQ 2250 4219 1831 4219 \r\nQ 1534 4219 1204 4116 \r\nQ 875 4013 500 3803 \r\nL 500 4441 \r\nQ 881 4594 1212 4672 \r\nQ 1544 4750 1819 4750 \r\nQ 2544 4750 2975 4387 \r\nQ 3406 4025 3406 3419 \r\nQ 3406 3131 3298 2873 \r\nQ 3191 2616 2906 2266 \r\nQ 2828 2175 2409 1742 \r\nQ 1991 1309 1228 531 \r\nz\r\n\" id=\"DejaVuSans-32\" transform=\"scale(0.015625)\"/>\r\n        <path d=\"M 691 4666 \r\nL 3169 4666 \r\nL 3169 4134 \r\nL 1269 4134 \r\nL 1269 2991 \r\nQ 1406 3038 1543 3061 \r\nQ 1681 3084 1819 3084 \r\nQ 2600 3084 3056 2656 \r\nQ 3513 2228 3513 1497 \r\nQ 3513 744 3044 326 \r\nQ 2575 -91 1722 -91 \r\nQ 1428 -91 1123 -41 \r\nQ 819 9 494 109 \r\nL 494 744 \r\nQ 775 591 1075 516 \r\nQ 1375 441 1709 441 \r\nQ 2250 441 2565 725 \r\nQ 2881 1009 2881 1497 \r\nQ 2881 1984 2565 2268 \r\nQ 2250 2553 1709 2553 \r\nQ 1456 2553 1204 2497 \r\nQ 953 2441 691 2322 \r\nL 691 4666 \r\nz\r\n\" id=\"DejaVuSans-35\" transform=\"scale(0.015625)\"/>\r\n       </defs>\r\n       <use xlink:href=\"#DejaVuSans-32\"/>\r\n       <use x=\"63.623047\" xlink:href=\"#DejaVuSans-35\"/>\r\n      </g>\r\n     </g>\r\n    </g>\r\n    <g id=\"xtick_3\">\r\n     <g id=\"line2d_3\">\r\n      <g>\r\n       <use style=\"stroke:#000000;stroke-width:0.8;\" x=\"113.187245\" xlink:href=\"#m485216337d\" y=\"105.80228\"/>\r\n      </g>\r\n     </g>\r\n     <g id=\"text_3\">\r\n      <!-- 50 -->\r\n      <g transform=\"translate(106.824745 120.400717)scale(0.1 -0.1)\">\r\n       <use xlink:href=\"#DejaVuSans-35\"/>\r\n       <use x=\"63.623047\" xlink:href=\"#DejaVuSans-30\"/>\r\n      </g>\r\n     </g>\r\n    </g>\r\n    <g id=\"xtick_4\">\r\n     <g id=\"line2d_4\">\r\n      <g>\r\n       <use style=\"stroke:#000000;stroke-width:0.8;\" x=\"155.891327\" xlink:href=\"#m485216337d\" y=\"105.80228\"/>\r\n      </g>\r\n     </g>\r\n     <g id=\"text_4\">\r\n      <!-- 75 -->\r\n      <g transform=\"translate(149.528827 120.400717)scale(0.1 -0.1)\">\r\n       <defs>\r\n        <path d=\"M 525 4666 \r\nL 3525 4666 \r\nL 3525 4397 \r\nL 1831 0 \r\nL 1172 0 \r\nL 2766 4134 \r\nL 525 4134 \r\nL 525 4666 \r\nz\r\n\" id=\"DejaVuSans-37\" transform=\"scale(0.015625)\"/>\r\n       </defs>\r\n       <use xlink:href=\"#DejaVuSans-37\"/>\r\n       <use x=\"63.623047\" xlink:href=\"#DejaVuSans-35\"/>\r\n      </g>\r\n     </g>\r\n    </g>\r\n    <g id=\"xtick_5\">\r\n     <g id=\"line2d_5\">\r\n      <g>\r\n       <use style=\"stroke:#000000;stroke-width:0.8;\" x=\"198.595408\" xlink:href=\"#m485216337d\" y=\"105.80228\"/>\r\n      </g>\r\n     </g>\r\n     <g id=\"text_5\">\r\n      <!-- 100 -->\r\n      <g transform=\"translate(189.051658 120.400717)scale(0.1 -0.1)\">\r\n       <defs>\r\n        <path d=\"M 794 531 \r\nL 1825 531 \r\nL 1825 4091 \r\nL 703 3866 \r\nL 703 4441 \r\nL 1819 4666 \r\nL 2450 4666 \r\nL 2450 531 \r\nL 3481 531 \r\nL 3481 0 \r\nL 794 0 \r\nL 794 531 \r\nz\r\n\" id=\"DejaVuSans-31\" transform=\"scale(0.015625)\"/>\r\n       </defs>\r\n       <use xlink:href=\"#DejaVuSans-31\"/>\r\n       <use x=\"63.623047\" xlink:href=\"#DejaVuSans-30\"/>\r\n       <use x=\"127.246094\" xlink:href=\"#DejaVuSans-30\"/>\r\n      </g>\r\n     </g>\r\n    </g>\r\n    <g id=\"xtick_6\">\r\n     <g id=\"line2d_6\">\r\n      <g>\r\n       <use style=\"stroke:#000000;stroke-width:0.8;\" x=\"241.29949\" xlink:href=\"#m485216337d\" y=\"105.80228\"/>\r\n      </g>\r\n     </g>\r\n     <g id=\"text_6\">\r\n      <!-- 125 -->\r\n      <g transform=\"translate(231.75574 120.400717)scale(0.1 -0.1)\">\r\n       <use xlink:href=\"#DejaVuSans-31\"/>\r\n       <use x=\"63.623047\" xlink:href=\"#DejaVuSans-32\"/>\r\n       <use x=\"127.246094\" xlink:href=\"#DejaVuSans-35\"/>\r\n      </g>\r\n     </g>\r\n    </g>\r\n    <g id=\"xtick_7\">\r\n     <g id=\"line2d_7\">\r\n      <g>\r\n       <use style=\"stroke:#000000;stroke-width:0.8;\" x=\"284.003571\" xlink:href=\"#m485216337d\" y=\"105.80228\"/>\r\n      </g>\r\n     </g>\r\n     <g id=\"text_7\">\r\n      <!-- 150 -->\r\n      <g transform=\"translate(274.459821 120.400717)scale(0.1 -0.1)\">\r\n       <use xlink:href=\"#DejaVuSans-31\"/>\r\n       <use x=\"63.623047\" xlink:href=\"#DejaVuSans-35\"/>\r\n       <use x=\"127.246094\" xlink:href=\"#DejaVuSans-30\"/>\r\n      </g>\r\n     </g>\r\n    </g>\r\n    <g id=\"xtick_8\">\r\n     <g id=\"line2d_8\">\r\n      <g>\r\n       <use style=\"stroke:#000000;stroke-width:0.8;\" x=\"326.707653\" xlink:href=\"#m485216337d\" y=\"105.80228\"/>\r\n      </g>\r\n     </g>\r\n     <g id=\"text_8\">\r\n      <!-- 175 -->\r\n      <g transform=\"translate(317.163903 120.400717)scale(0.1 -0.1)\">\r\n       <use xlink:href=\"#DejaVuSans-31\"/>\r\n       <use x=\"63.623047\" xlink:href=\"#DejaVuSans-37\"/>\r\n       <use x=\"127.246094\" xlink:href=\"#DejaVuSans-35\"/>\r\n      </g>\r\n     </g>\r\n    </g>\r\n   </g>\r\n   <g id=\"matplotlib.axis_2\">\r\n    <g id=\"ytick_1\">\r\n     <g id=\"line2d_9\">\r\n      <defs>\r\n       <path d=\"M 0 0 \r\nL -3.5 0 \r\n\" id=\"mcd699e2210\" style=\"stroke:#000000;stroke-width:0.8;\"/>\r\n      </defs>\r\n      <g>\r\n       <use style=\"stroke:#000000;stroke-width:0.8;\" x=\"26.925\" xlink:href=\"#mcd699e2210\" y=\"10.999219\"/>\r\n      </g>\r\n     </g>\r\n     <g id=\"text_9\">\r\n      <!-- 0 -->\r\n      <g transform=\"translate(13.5625 14.798437)scale(0.1 -0.1)\">\r\n       <use xlink:href=\"#DejaVuSans-30\"/>\r\n      </g>\r\n     </g>\r\n    </g>\r\n    <g id=\"ytick_2\">\r\n     <g id=\"line2d_10\">\r\n      <g>\r\n       <use style=\"stroke:#000000;stroke-width:0.8;\" x=\"26.925\" xlink:href=\"#mcd699e2210\" y=\"45.162484\"/>\r\n      </g>\r\n     </g>\r\n     <g id=\"text_10\">\r\n      <!-- 20 -->\r\n      <g transform=\"translate(7.2 48.961703)scale(0.1 -0.1)\">\r\n       <use xlink:href=\"#DejaVuSans-32\"/>\r\n       <use x=\"63.623047\" xlink:href=\"#DejaVuSans-30\"/>\r\n      </g>\r\n     </g>\r\n    </g>\r\n    <g id=\"ytick_3\">\r\n     <g id=\"line2d_11\">\r\n      <g>\r\n       <use style=\"stroke:#000000;stroke-width:0.8;\" x=\"26.925\" xlink:href=\"#mcd699e2210\" y=\"79.325749\"/>\r\n      </g>\r\n     </g>\r\n     <g id=\"text_11\">\r\n      <!-- 40 -->\r\n      <g transform=\"translate(7.2 83.124968)scale(0.1 -0.1)\">\r\n       <defs>\r\n        <path d=\"M 2419 4116 \r\nL 825 1625 \r\nL 2419 1625 \r\nL 2419 4116 \r\nz\r\nM 2253 4666 \r\nL 3047 4666 \r\nL 3047 1625 \r\nL 3713 1625 \r\nL 3713 1100 \r\nL 3047 1100 \r\nL 3047 0 \r\nL 2419 0 \r\nL 2419 1100 \r\nL 313 1100 \r\nL 313 1709 \r\nL 2253 4666 \r\nz\r\n\" id=\"DejaVuSans-34\" transform=\"scale(0.015625)\"/>\r\n       </defs>\r\n       <use xlink:href=\"#DejaVuSans-34\"/>\r\n       <use x=\"63.623047\" xlink:href=\"#DejaVuSans-30\"/>\r\n      </g>\r\n     </g>\r\n    </g>\r\n   </g>\r\n   <g id=\"patch_3\">\r\n    <path d=\"M 26.925 105.80228 \r\nL 26.925 10.145137 \r\n\" style=\"fill:none;stroke:#000000;stroke-linecap:square;stroke-linejoin:miter;stroke-width:0.8;\"/>\r\n   </g>\r\n   <g id=\"patch_4\">\r\n    <path d=\"M 361.725 105.80228 \r\nL 361.725 10.145137 \r\n\" style=\"fill:none;stroke:#000000;stroke-linecap:square;stroke-linejoin:miter;stroke-width:0.8;\"/>\r\n   </g>\r\n   <g id=\"patch_5\">\r\n    <path d=\"M 26.925 105.80228 \r\nL 361.725 105.80228 \r\n\" style=\"fill:none;stroke:#000000;stroke-linecap:square;stroke-linejoin:miter;stroke-width:0.8;\"/>\r\n   </g>\r\n   <g id=\"patch_6\">\r\n    <path d=\"M 26.925 10.145137 \r\nL 361.725 10.145137 \r\n\" style=\"fill:none;stroke:#000000;stroke-linecap:square;stroke-linejoin:miter;stroke-width:0.8;\"/>\r\n   </g>\r\n  </g>\r\n </g>\r\n <defs>\r\n  <clipPath id=\"p4592a98c3f\">\r\n   <rect height=\"95.657143\" width=\"334.8\" x=\"26.925\" y=\"10.145137\"/>\r\n  </clipPath>\r\n </defs>\r\n</svg>\r\n",
      "image/png": "[encoded data removed]"
     },
     "metadata": {
      "needs_background": "light"
     }
    }
   ],
   "source": [
    "from keras.preprocessing.image import load_img, img_to_array\n",
    "\n",
    "img = load_img('test.png', color_mode = \"grayscale\")\n",
    "img = img_to_array(img).astype(np.float32)\n",
    "print(img.shape)\n",
    "plt.imshow(img[:,:,0], cmap = 'gray')\n",
    "img = np.expand_dims(img, 0)\n",
    "print(img.shape)"
   ]
  },
  {
   "cell_type": "code",
   "execution_count": null,
   "metadata": {},
   "outputs": [],
   "source": [
    "modelfc = Sequential()                                 # Linear stacking of layers\n",
    "\n",
    "# Convolution Layer 1\n",
    "modelfc.add(Conv2D(16, (5, 5), input_shape=(None,None,1))) # 16 different 5x5 kernels -- so 16 feature maps\n",
    "modelfc.add(Activation('relu') )                       # activation\n",
    "modelfc.add(MaxPooling2D(pool_size=(2,2)))             # Pool the max values over a 2x2 kernel\n",
    "\n",
    "# Convolution Layer 2\n",
    "modelfc.add(Conv2D(32, (5, 5)))                        # 32 different 5x5 kernels -- so 32 feature maps\n",
    "modelfc.add(Activation('relu'))                        # activation\n",
    "modelfc.add(MaxPooling2D(pool_size=(2,2)))             # Pool the max values over a 2x2 kernel\n",
    "\n",
    "\n",
    "modelfc.add(Conv2D(128, (4, 4)))                        \n",
    "modelfc.add(Activation('relu'))                        # activation\n",
    "\n",
    "modelfc.add(Conv2D(10, (1, 1)))                              \n",
    "modelfc.add(Activation('softmax'))                     # softmax activation\n",
    "\n",
    "modelfc.summary()"
   ]
  },
  {
   "cell_type": "code",
   "execution_count": null,
   "metadata": {},
   "outputs": [],
   "source": [
    "# we'll use the same optimizer\n",
    "adam = optimizers.Adam(lr=0.001)\n",
    "modelfc.compile(loss='categorical_crossentropy', optimizer=adam, metrics=['accuracy'])\n",
    "\n",
    "Y_train_fc = np.reshape(Y_train, (60000, 1, 1, 10))\n",
    "Y_test_fc = np.reshape(Y_test, (10000, 1, 1, 10))\n",
    "print(Y_test_fc.shape)\n",
    "\n",
    "gen_fc = ImageDataGenerator(rotation_range=8, width_shift_range=0.08, shear_range=0.3,\n",
    "                         height_shift_range=0.08, zoom_range=0.08, validation_split=0.2)\n",
    "\n",
    "test_gen_fc = ImageDataGenerator()\n",
    "\n",
    "train_generator_fc = gen_fc.flow(X_train, Y_train_fc, batch_size=120, subset='training')\n",
    "valid_generator_fc = gen_fc.flow(X_train, Y_train_fc, batch_size=120, subset='validation')\n",
    "test_generator_fc = test_gen_fc.flow(X_test, Y_test_fc, batch_size=128)\n",
    "\n",
    "modelfc.fit_generator(train_generator_fc, steps_per_epoch=50000//128, epochs=5, verbose=1, validation_data=valid_generator_fc, validation_steps = 10000 // 128)"
   ]
  },
  {
   "cell_type": "code",
   "execution_count": null,
   "metadata": {},
   "outputs": [],
   "source": [
    "score = modelfc.evaluate(X_test, Y_test_fc)\n",
    "print('Test score:', score[0])\n",
    "print('Test accuracy:', score[1])"
   ]
  },
  {
   "cell_type": "code",
   "execution_count": null,
   "metadata": {},
   "outputs": [],
   "source": [
    "# Predykcje dla obrazu dowolnej wielkości\n",
    "preds = modelfc.predict(img)\n",
    "print(preds.shape)\n",
    "plt.imshow(preds[0, :, :, 0])"
   ]
  },
  {
   "cell_type": "code",
   "execution_count": null,
   "metadata": {},
   "outputs": [],
   "source": [
    "x_axis = np.linspace(-1, 1, 28)[:, None]\n",
    "y_axis = np.linspace(-1, 1, 28)[None, :]\n",
    "\n",
    "arr = 1 - np.sqrt(x_axis ** 2 + y_axis ** 2)\n",
    "arr[arr<0] = 0\n",
    "plt.imshow(arr)\n",
    "\n",
    "def draw_heatmap(image, preds, kernel, step = 4):\n",
    "  import cv2\n",
    "\n",
    "  rows = preds.shape[0]\n",
    "  cols = preds.shape[1]\n",
    "  sy = kernel.shape[0]\n",
    "  sx = kernel.shape[1]\n",
    "\n",
    "  hmap = np.zeros(image.shape[0:2])\n",
    "\n",
    "  for r in range(rows):\n",
    "    for c in range(cols):\n",
    "      y = r * step\n",
    "      x = c * step\n",
    "\n",
    "      hmap[y:y+sy, x:x+sx] = hmap[y:y+sy, x:x+sx] + preds[r, c] * kernel\n",
    "\n",
    "  if np.amax(hmap) > 1:\n",
    "    hmap = hmap / np.amax(hmap)\n",
    "  hmap2 = (hmap * 255).astype(np.uint8)\n",
    "\n",
    "  cmap = cv2.applyColorMap(hmap2, cv2.COLORMAP_HOT)\n",
    "  cmap = cmap[:,:,::-1]\n",
    "  img = (image * 255).astype(np.uint8)\n",
    "  ret = 0.3 * img + 0.7 * cmap\n",
    "\n",
    "  return ret.astype(np.uint8)"
   ]
  },
  {
   "cell_type": "code",
   "execution_count": null,
   "metadata": {},
   "outputs": [],
   "source": [
    "for i in range(10):\n",
    "  plt.imshow(draw_heatmap(img[0], preds[0, :, :, i], arr))\n",
    "  plt.figure()"
   ]
  },
  {
   "cell_type": "code",
   "execution_count": null,
   "metadata": {},
   "outputs": [],
   "source": [
    "def to_fully_conv(model):\n",
    "    from keras.engine import InputLayer\n",
    "\n",
    "    new_model = Sequential()\n",
    "\n",
    "    input_layer = InputLayer(input_shape=(None, None, 1), name=\"input_new\")\n",
    "\n",
    "    new_model.add(input_layer)\n",
    "\n",
    "    for layer in model.layers:\n",
    "        \n",
    "        if \"Flatten\" in str(layer):\n",
    "\n",
    "            flattened_ipt = True\n",
    "            f_dim = layer.input_shape\n",
    "\n",
    "        elif \"Dense\" in str(layer):\n",
    "            input_shape = layer.input_shape\n",
    "            output_dim =  layer.get_weights()[1].shape[0]\n",
    "            W,b = layer.get_weights()\n",
    "            if flattened_ipt:\n",
    "                shape = (f_dim[1],f_dim[2],f_dim[3],output_dim)\n",
    "                new_W = W.reshape(shape)\n",
    "                new_layer = Conv2D(output_dim,\n",
    "                                          (f_dim[1],f_dim[2]),\n",
    "                                          strides=(1,1),\n",
    "                                          activation=layer.activation,\n",
    "                                          padding='valid',\n",
    "                                          weights=[new_W,b])\n",
    "                \n",
    "                new_model.add(new_layer)\n",
    "                flattened_ipt = False\n",
    "\n",
    "            else:\n",
    "                shape = (1,1,input_shape[1],output_dim)\n",
    "                new_W = W.reshape(shape)\n",
    "                new_layer = Conv2D(output_dim,\n",
    "                                          (1,1),\n",
    "                                          strides=(1,1),\n",
    "                                          activation=layer.activation,\n",
    "                                          padding='valid',\n",
    "                                          weights=[new_W,b])\n",
    "                \n",
    "                new_model.add(new_layer)\n",
    "\n",
    "        else:\n",
    "            new_model.add(layer)\n",
    "\n",
    "\n",
    "    return new_model"
   ]
  },
  {
   "cell_type": "code",
   "execution_count": null,
   "metadata": {},
   "outputs": [],
   "source": [
    "new_model = to_fully_conv(modelfc)\n",
    "new_model.summary()"
   ]
  },
  {
   "cell_type": "code",
   "execution_count": null,
   "metadata": {},
   "outputs": [],
   "source": [
    "pred2 = new_model.predict(img)\n",
    "print(pred2.shape)\n",
    "plt.imshow(pred2[0,:,:,2])\n",
    "np.amax(pred2[0,:,:,2])"
   ]
  },
  {
   "cell_type": "code",
   "execution_count": null,
   "metadata": {},
   "outputs": [],
   "source": [
    "for i in range(10):\n",
    "  plt.imshow(draw_heatmap(img[0], pred2[0, :, :, i], arr))\n",
    "  plt.figure()"
   ]
  },
  {
   "cell_type": "code",
   "execution_count": null,
   "metadata": {},
   "outputs": [],
   "source": [
    "# Wykorzystanie wag wytrenowanej sieci \"klasycznej\"\n",
    "cnt = X_train.shape[0]\n",
    "neg_cnt = 5000\n",
    "X_neg = np.zeros((neg_cnt, 28, 28, 1))\n",
    "y_neg = np.ones((neg_cnt)) * 10\n",
    "print(X_neg.shape)\n",
    "\n",
    "theta = np.radians(45)\n",
    "c, s = np.cos(theta), np.sin(theta)\n",
    "R = np.array(((c, -s), (s, c)))\n",
    "\n",
    "for i in range(neg_cnt):\n",
    "  i1 = X_train[random.randint(0, cnt-1)]\n",
    "  i2 = X_train[random.randint(0, cnt-1)]\n",
    "  i3 = X_train[random.randint(0, cnt-1)]\n",
    "  i4 = X_train[random.randint(0, cnt-1)]\n",
    "  tmp = np.vstack((np.hstack((i1, i2)), np.hstack((i3, i4))))\n",
    "  tmp = np.pad(tmp[:,:,0], pad_width=14, mode='constant')\n",
    "\n",
    "  c = np.random.randint(-14, 14, 2)\n",
    "  c = (np.matmul(c, R) + 42).astype(np.int32)\n",
    "  tmp2 = tmp[(c[0]-14):(c[0]+14),(c[1]-14):(c[1]+14)]\n",
    "  X_neg[i,:,:,0] = tmp2\n",
    "\n",
    "X_train_bg = np.concatenate((X_train, X_neg))\n",
    "y_train_bg = np.concatenate((y_train, y_neg))\n",
    "Y_train_bg = np_utils.to_categorical(y_train_bg, nb_classes + 1)\n",
    "Y_train_bg = np.reshape(Y_train_bg, (Y_train_bg.shape[0], 1, 1, 11))\n",
    "print(X_train_bg.shape)\n",
    "print(Y_train_bg.shape)"
   ]
  },
  {
   "cell_type": "code",
   "execution_count": null,
   "metadata": {},
   "outputs": [],
   "source": [
    "plt.imshow(X_neg[30,:,:,0])"
   ]
  },
  {
   "cell_type": "code",
   "execution_count": null,
   "metadata": {},
   "outputs": [],
   "source": [
    "gen_bg = ImageDataGenerator(rotation_range=8, width_shift_range=0.08, shear_range=0.3,\n",
    "                         height_shift_range=0.08, zoom_range=0.08, validation_split=0.2)\n",
    "\n",
    "train_generator_bg = gen_bg.flow(X_train_bg, Y_train_bg, batch_size=128, subset='training')\n",
    "valid_generator_bg = gen_bg.flow(X_train_bg, Y_train_bg, batch_size=128, subset='validation')\n",
    "\n",
    "\n",
    "modelbg = Sequential()                                 # Linear stacking of layers\n",
    "\n",
    "# Convolution Layer 1\n",
    "modelbg.add(Conv2D(16, (5, 5), input_shape=(None,None,1))) # 16 different 5x5 kernels -- so 16 feature maps\n",
    "modelbg.add(Activation('relu') )                       # activation\n",
    "modelbg.add(MaxPooling2D(pool_size=(2,2)))             # Pool the max values over a 2x2 kernel\n",
    "\n",
    "# Convolution Layer 2\n",
    "modelbg.add(Conv2D(32, (5, 5)))                        # 32 different 5x5 kernels -- so 32 feature maps\n",
    "modelbg.add(Activation('relu'))                        # activation\n",
    "modelbg.add(MaxPooling2D(pool_size=(2,2)))             # Pool the max values over a 2x2 kernel\n",
    "\n",
    "\n",
    "modelbg.add(Conv2D(128, (4, 4)))                        \n",
    "modelbg.add(Activation('relu'))                        # activation\n",
    "\n",
    "modelbg.add(Conv2D(10+1, (1, 1)))                              \n",
    "modelbg.add(Activation('softmax'))                     # softmax activation\n",
    "\n",
    "modelbg.summary()"
   ]
  },
  {
   "cell_type": "code",
   "execution_count": null,
   "metadata": {},
   "outputs": [],
   "source": [
    "adam = optimizers.Adam(lr=0.001)\n",
    "modelbg.compile(loss='categorical_crossentropy', optimizer=adam, metrics=['accuracy'])"
   ]
  },
  {
   "cell_type": "code",
   "execution_count": null,
   "metadata": {},
   "outputs": [],
   "source": [
    "modelbg.fit_generator(train_generator_bg, steps_per_epoch=50000//128, epochs=5, verbose=1, validation_data=valid_generator_bg, validation_steps = 10000 // 128)"
   ]
  },
  {
   "cell_type": "code",
   "execution_count": null,
   "metadata": {},
   "outputs": [],
   "source": [
    "pred3 = modelbg.predict(img)\n",
    "print(pred3.shape)\n",
    "plt.imshow(pred3[0,:,:,2])\n",
    "np.amax(pred3[0,:,:,2])"
   ]
  },
  {
   "cell_type": "code",
   "execution_count": null,
   "metadata": {},
   "outputs": [],
   "source": [
    "for i in range(11):\n",
    "  plt.imshow(draw_heatmap(img[0], pred3[0, :, :, i], arr))\n",
    "  plt.figure()"
   ]
  },
  {
   "cell_type": "code",
   "execution_count": null,
   "metadata": {},
   "outputs": [],
   "source": [
    "import scipy.ndimage.filters as filters\n",
    "import cv2\n",
    "\n",
    "outimg = cv2.cvtColor(img[0], cv2.COLOR_GRAY2BGR)\n",
    "for digit in range(10):\n",
    "  p0 = pred3[0, :, :, digit].copy()\n",
    "  p0[p0 < 0.997] = 0\n",
    "  preds_max = filters.maximum_filter(p0, 5)\n",
    "  preds_max = np.bitwise_and((p0 == preds_max), (p0 > 0))\n",
    "  plt.imshow(preds_max)\n",
    "\n",
    "  ids = np.nonzero(preds_max)\n",
    "  step = 4\n",
    "  sz = 28\n",
    "  for (y,x) in zip(*ids):\n",
    "    cv2.rectangle(outimg, (x*step,y*step), (x*step+sz, y*step+sz), (1, 0, 0))\n",
    "    cv2.putText(outimg, str(digit), (x*step, y*step+sz), cv2.FONT_HERSHEY_PLAIN, 1, (1, 0, 0))\n",
    "\n",
    "plt.imshow(outimg)"
   ]
  },
  {
   "cell_type": "code",
   "execution_count": null,
   "metadata": {},
   "outputs": [],
   "source": []
  }
 ]
}